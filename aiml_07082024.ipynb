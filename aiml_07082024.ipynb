{
  "nbformat": 4,
  "nbformat_minor": 0,
  "metadata": {
    "colab": {
      "provenance": [],
      "authorship_tag": "ABX9TyN5qvLSx6KHVb4wH3KB6kwy",
      "include_colab_link": true
    },
    "kernelspec": {
      "name": "python3",
      "display_name": "Python 3"
    },
    "language_info": {
      "name": "python"
    }
  },
  "cells": [
    {
      "cell_type": "markdown",
      "metadata": {
        "id": "view-in-github",
        "colab_type": "text"
      },
      "source": [
        "<a href=\"https://colab.research.google.com/github/sunny7016/Aiml/blob/main/aiml_07082024.ipynb\" target=\"_parent\"><img src=\"https://colab.research.google.com/assets/colab-badge.svg\" alt=\"Open In Colab\"/></a>"
      ]
    },
    {
      "cell_type": "code",
      "execution_count": 17,
      "metadata": {
        "colab": {
          "base_uri": "https://localhost:8080/"
        },
        "id": "hBJs8IDXGgE1",
        "outputId": "d0f54315-f431-49cb-ac2d-e661c6936d05"
      },
      "outputs": [
        {
          "output_type": "stream",
          "name": "stdout",
          "text": [
            "[ 3  9 11 14]\n",
            "[[ 47  12  95]\n",
            " [100 145  46]]\n"
          ]
        },
        {
          "output_type": "execute_result",
          "data": {
            "text/plain": [
              "array([[0.10083606, 0.92195562],\n",
              "       [0.18950855, 0.77620715]])"
            ]
          },
          "metadata": {},
          "execution_count": 17
        }
      ],
      "source": [
        "import numpy as np\n",
        "a = np.array([1,2,3,4])\n",
        "b =np.array([2,7,8,10])\n",
        "c=a+b\n",
        "print(c)\n",
        "c.sort()\n",
        "d = np.array([(2,5,6),(55,78,23)])\n",
        "e = np.array([(45,7,89),(45,67,23)])\n",
        "f=d+e\n",
        "print(f)\n",
        "g= np.zeros((3,3))\n",
        "g\n",
        "i=np.arange(10,55,6)\n",
        "i\n",
        "j=np.linspace(2,6,7)\n",
        "j\n",
        "k=np.full((2,2),7)\n",
        "k\n",
        "n= np.random.random((2,2))\n",
        "n\n"
      ]
    },
    {
      "cell_type": "code",
      "source": [],
      "metadata": {
        "id": "hmsocXPYG7Tx"
      },
      "execution_count": null,
      "outputs": []
    }
  ]
}